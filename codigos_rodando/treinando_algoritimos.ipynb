{
 "cells": [
  {
   "cell_type": "code",
   "execution_count": 1,
   "metadata": {},
   "outputs": [],
   "source": [
    "import sys\n",
    "sys.path.append(\"..\")\n",
    "import pickle\n",
    "arquivo_selic = '/workspaces/Predicoes_macroeconomicas/dados/economic_data_brazil.pkl'\n",
    "dados_salvos_selic = pickle.load(open(arquivo_selic, 'rb'))"
   ]
  },
  {
   "cell_type": "code",
   "execution_count": 2,
   "metadata": {},
   "outputs": [
    {
     "data": {
      "text/plain": [
       "2000-01-01    18.94\n",
       "2000-02-01    18.87\n",
       "2000-03-01    18.85\n",
       "2000-04-01    18.62\n",
       "2000-05-01    18.51\n",
       "              ...  \n",
       "2024-02-01    11.15\n",
       "2024-03-01    11.00\n",
       "2024-04-01    10.65\n",
       "2024-05-01    10.46\n",
       "2024-06-01    10.40\n",
       "Freq: MS, Name: selic, Length: 294, dtype: float64"
      ]
     },
     "execution_count": 2,
     "metadata": {},
     "output_type": "execute_result"
    }
   ],
   "source": [
    "dados_salvos_selic['selic']"
   ]
  },
  {
   "cell_type": "code",
   "execution_count": null,
   "metadata": {},
   "outputs": [],
   "source": []
  }
 ],
 "metadata": {
  "kernelspec": {
   "display_name": "variaveis_economicas",
   "language": "python",
   "name": "python3"
  },
  "language_info": {
   "codemirror_mode": {
    "name": "ipython",
    "version": 3
   },
   "file_extension": ".py",
   "mimetype": "text/x-python",
   "name": "python",
   "nbconvert_exporter": "python",
   "pygments_lexer": "ipython3",
   "version": "3.10.13"
  }
 },
 "nbformat": 4,
 "nbformat_minor": 2
}
