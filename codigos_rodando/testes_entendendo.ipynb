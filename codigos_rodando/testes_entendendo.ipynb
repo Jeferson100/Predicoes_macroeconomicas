{
 "cells": [
  {
   "cell_type": "code",
   "execution_count": 1,
   "metadata": {},
   "outputs": [],
   "source": [
    "import sys\n",
    "sys.path.append('..')\n",
    "from economic_brazil.visualizacoes_graficas.codigos_graficos import Graficos\n",
    "from economic_brazil.coleta_dados.economic_data_brazil import data_economic\n",
    "from economic_brazil.processando_dados.data_processing import criando_dummy_covid, criando_defasagens,criando_mes_ano_dia\n",
    "from economic_brazil.processando_dados.estacionaridade import Estacionaridade\n",
    "from economic_brazil.processando_dados.divisao_treino_teste import treino_test_dados,treino_teste_seies_temporal\n",
    "from economic_brazil.treinamento.arima_treinamento import Arima\n",
    "from economic_brazil.treinamento.treinamento_modelos_tuning import TimeSeriesModelTuner\n",
    "from skopt.space import Real, Integer"
   ]
  },
  {
   "cell_type": "code",
   "execution_count": 2,
   "metadata": {},
   "outputs": [],
   "source": [
    "dados = data_economic()"
   ]
  },
  {
   "cell_type": "code",
   "execution_count": 3,
   "metadata": {},
   "outputs": [
    {
     "name": "stdout",
     "output_type": "stream",
     "text": [
      "Best Grid Search Params: {'max_depth': 20, 'n_estimators': 200} Score: -1.5590018851953984\n",
      "Best Random Search Params: {'n_estimators': 100, 'max_depth': 40} Score: -1.5732921218723144\n",
      "Best Bayesian Optimization Params: OrderedDict([('max_depth', 23), ('n_estimators', 261)]) Score: -6.154952490421456\n"
     ]
    }
   ],
   "source": [
    "# Exemplo de uso:\n",
    "from sklearn.ensemble import RandomForestRegressor\n",
    "\n",
    "# Supondo X_train e y_train como seus dados de séries temporais\n",
    "model = RandomForestRegressor()\n",
    "\n",
    "# Parâmetros para cada método\n",
    "param_grid = {'n_estimators': [100, 200,300], 'max_depth': [10, 20,30]}\n",
    "param_distributions = {'n_estimators': [100, 200, 300,400,500], 'max_depth': [10, 20, 30,40]}\n",
    "search_spaces = {'n_estimators': Integer(100, 300), 'max_depth': Integer(10, 30)}\n",
    "\n",
    "# Criando instância da classe\n",
    "tunin = TimeSeriesModelTuner(model, dados,coluna='selic')\n",
    "\n",
    "# Executando os métodos\n",
    "best_params_grid, best_score_grid = tunin.grid_search(param_grid)\n",
    "best_params_random, best_score_random = tunin.random_search(param_distributions)\n",
    "best_params_bayes, best_score_bayes = tunin.bayesian_optimization(search_spaces)"
   ]
  },
  {
   "cell_type": "code",
   "execution_count": null,
   "metadata": {},
   "outputs": [],
   "source": []
  }
 ],
 "metadata": {
  "kernelspec": {
   "display_name": "Python 3",
   "language": "python",
   "name": "python3"
  },
  "language_info": {
   "codemirror_mode": {
    "name": "ipython",
    "version": 3
   },
   "file_extension": ".py",
   "mimetype": "text/x-python",
   "name": "python",
   "nbconvert_exporter": "python",
   "pygments_lexer": "ipython3",
   "version": "3.10.13"
  }
 },
 "nbformat": 4,
 "nbformat_minor": 2
}
