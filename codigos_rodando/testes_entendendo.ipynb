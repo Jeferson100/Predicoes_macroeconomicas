{
 "cells": [
  {
   "cell_type": "code",
   "execution_count": 1,
   "metadata": {},
   "outputs": [],
   "source": [
    "import sys\n",
    "sys.path.append('..')\n",
    "from economic_brazil.visualizacoes_graficas.codigos_graficos import Graficos\n",
    "from economic_brazil.coleta_dados.economic_data_brazil import data_economic\n",
    "from economic_brazil.processando_dados.data_processing import criando_dummy_covid, criando_defasagens,criando_mes_ano_dia\n",
    "from economic_brazil.processando_dados.estacionaridade import Estacionaridade\n",
    "from economic_brazil.processando_dados.divisao_treino_teste import treino_test_dados,treino_teste_seies_temporal\n",
    "from economic_brazil.treinamento.arima_treinamento import Arima\n",
    "from economic_brazil.treinamento.treinamento_modelos_tuning import TimeSeriesModelTuner"
   ]
  },
  {
   "cell_type": "code",
   "execution_count": 2,
   "metadata": {},
   "outputs": [],
   "source": [
    "dados = data_economic()"
   ]
  },
  {
   "cell_type": "code",
   "execution_count": 3,
   "metadata": {},
   "outputs": [],
   "source": [
    "from sklearn.ensemble import RandomForestRegressor\n",
    "\n",
    "# Supondo X_train e y_train como seus dados de séries temporais\n",
    "model = RandomForestRegressor()\n",
    "tunin = TimeSeriesModelTuner(model,dados,coluna='selic',numero_divisoes=10)"
   ]
  },
  {
   "cell_type": "code",
   "execution_count": 4,
   "metadata": {},
   "outputs": [
    {
     "data": {
      "text/plain": [
       "<economic_brazil.treinamento.treinamento_modelos_tuning.TimeSeriesModelTuner at 0x7f52b96ff4f0>"
      ]
     },
     "execution_count": 4,
     "metadata": {},
     "output_type": "execute_result"
    }
   ],
   "source": [
    "tunin"
   ]
  },
  {
   "cell_type": "code",
   "execution_count": 5,
   "metadata": {},
   "outputs": [],
   "source": [
    "from skopt.space import Real, Integer\n",
    "search_spaces = {'n_estimators': Integer(100, 300), 'max_depth': Integer(10, 30)}"
   ]
  },
  {
   "cell_type": "code",
   "execution_count": 6,
   "metadata": {},
   "outputs": [],
   "source": [
    "best_params_bayes, best_score_bayes = tunin.bayesian_optimization(search_spaces)"
   ]
  },
  {
   "cell_type": "code",
   "execution_count": 25,
   "metadata": {},
   "outputs": [
    {
     "name": "stdout",
     "output_type": "stream",
     "text": [
      "Best Grid Search Params: {'max_depth': 20, 'n_estimators': 200} Score: -26.82196877634372\n",
      "Best Random Search Params: {'n_estimators': 100, 'max_depth': 30} Score: -26.245088531708337\n",
      "Best Bayesian Optimization Params: OrderedDict([('max_depth', 18), ('n_estimators', 202)]) Score: -26.223480469817048\n"
     ]
    }
   ],
   "source": [
    "\n",
    "\n",
    "# Exemplo de uso:\n",
    "from sklearn.ensemble import RandomForestRegressor\n",
    "\n",
    "# Supondo X_train e y_train como seus dados de séries temporais\n",
    "model = RandomForestRegressor()\n",
    "\n",
    "# Parâmetros para cada método\n",
    "param_grid = {'n_estimators': [100, 200], 'max_depth': [10, 20]}\n",
    "param_distributions = {'n_estimators': [100, 200, 300], 'max_depth': [10, 20, 30]}\n",
    "search_spaces = {'n_estimators': Integer(100, 300), 'max_depth': Integer(10, 30)}\n",
    "\n",
    "# Criando instância da classe\n",
    "tuner = TimeSeriesModelTuner(model, dados,coluna='selic')\n",
    "\n",
    "# Executando os métodos\n",
    "best_params_grid, best_score_grid = tuner.grid_search(param_grid)\n",
    "best_params_random, best_score_random = tuner.random_search(param_distributions)\n",
    "best_params_bayes, best_score_bayes = tuner.bayesian_optimization(search_spaces)\n",
    "\n",
    "print(\"Best Grid Search Params:\", best_params_grid, \"Score:\", best_score_grid)\n",
    "print(\"Best Random Search Params:\", best_params_random, \"Score:\", best_score_random)\n",
    "print(\"Best Bayesian Optimization Params:\", best_params_bayes, \"Score:\", best_score_bayes)\n"
   ]
  },
  {
   "cell_type": "code",
   "execution_count": null,
   "metadata": {},
   "outputs": [],
   "source": []
  }
 ],
 "metadata": {
  "kernelspec": {
   "display_name": "Python 3",
   "language": "python",
   "name": "python3"
  },
  "language_info": {
   "codemirror_mode": {
    "name": "ipython",
    "version": 3
   },
   "file_extension": ".py",
   "mimetype": "text/x-python",
   "name": "python",
   "nbconvert_exporter": "python",
   "pygments_lexer": "ipython3",
   "version": "3.10.13"
  }
 },
 "nbformat": 4,
 "nbformat_minor": 2
}
