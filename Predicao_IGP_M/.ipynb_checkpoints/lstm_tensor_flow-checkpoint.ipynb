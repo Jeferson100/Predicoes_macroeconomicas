{
 "cells": [
  {
   "cell_type": "code",
   "execution_count": 1,
   "id": "0e38eac1-107e-4177-bc8a-11b38147fde6",
   "metadata": {
    "tags": []
   },
   "outputs": [
    {
     "name": "stdout",
     "output_type": "stream",
     "text": [
      "Requirement already satisfied: flatbuffers in c:\\users\\jefer\\anaconda3\\envs\\macro\\lib\\site-packages (23.5.26)\n"
     ]
    }
   ],
   "source": [
    "#!pip install protobuf\n",
    "#!pip install wrapt\n",
    "#!pip install termcolor\n",
    "#!pip install flatbuffers"
   ]
  },
  {
   "cell_type": "code",
   "execution_count": 6,
   "id": "3621b8c6-cca2-4b69-9685-3dc40c3e338a",
   "metadata": {
    "tags": []
   },
   "outputs": [],
   "source": [
    "# LSTM for international airline passengers problem with regression framing\n",
    "import numpy as np\n",
    "import matplotlib.pyplot as plt\n",
    "from pandas import read_csv\n",
    "import math\n",
    "import tensorflow as tf\n",
    "from tensorflow.keras.models import Sequential\n",
    "from tensorflow.keras.layers import Dense\n",
    "from tensorflow.keras.layers import LSTM\n",
    "from sklearn.preprocessing import MinMaxScaler\n",
    "from sklearn.metrics import mean_squared_error\n",
    "import pandas as pd"
   ]
  },
  {
   "cell_type": "code",
   "execution_count": 4,
   "id": "d26f66ee-cbf8-4edb-bd04-87deaad62094",
   "metadata": {
    "tags": []
   },
   "outputs": [],
   "source": [
    "# fix random seed for reproducibility\n",
    "tf.random.set_seed(7)"
   ]
  },
  {
   "cell_type": "code",
   "execution_count": 25,
   "id": "b75aaad9-1129-41ce-9c07-27f4b679b9f6",
   "metadata": {
    "tags": []
   },
   "outputs": [],
   "source": [
    "url = \"https://raw.githubusercontent.com/jbrownlee/Datasets/master/airline-passengers.csv\"\n",
    "\n",
    "# Use o método 'read_csv' do pandas para ler o arquivo CSV da URL\n",
    "dataframe = pd.read_csv(url)\n",
    "dataframe.index = pd.to_datetime(dataframe['Month'])\n",
    "dataframe.drop('Month',axis=1,inplace=True)\n",
    "dataset = dataframe.astype('float32')"
   ]
  },
  {
   "cell_type": "code",
   "execution_count": 26,
   "id": "f6c4bc64-f391-4497-9cef-9d6daed6103f",
   "metadata": {
    "tags": []
   },
   "outputs": [
    {
     "data": {
      "text/html": [
       "<div>\n",
       "<style scoped>\n",
       "    .dataframe tbody tr th:only-of-type {\n",
       "        vertical-align: middle;\n",
       "    }\n",
       "\n",
       "    .dataframe tbody tr th {\n",
       "        vertical-align: top;\n",
       "    }\n",
       "\n",
       "    .dataframe thead th {\n",
       "        text-align: right;\n",
       "    }\n",
       "</style>\n",
       "<table border=\"1\" class=\"dataframe\">\n",
       "  <thead>\n",
       "    <tr style=\"text-align: right;\">\n",
       "      <th></th>\n",
       "      <th>Passengers</th>\n",
       "    </tr>\n",
       "    <tr>\n",
       "      <th>Month</th>\n",
       "      <th></th>\n",
       "    </tr>\n",
       "  </thead>\n",
       "  <tbody>\n",
       "    <tr>\n",
       "      <th>1949-01-01</th>\n",
       "      <td>112.0</td>\n",
       "    </tr>\n",
       "    <tr>\n",
       "      <th>1949-02-01</th>\n",
       "      <td>118.0</td>\n",
       "    </tr>\n",
       "    <tr>\n",
       "      <th>1949-03-01</th>\n",
       "      <td>132.0</td>\n",
       "    </tr>\n",
       "    <tr>\n",
       "      <th>1949-04-01</th>\n",
       "      <td>129.0</td>\n",
       "    </tr>\n",
       "    <tr>\n",
       "      <th>1949-05-01</th>\n",
       "      <td>121.0</td>\n",
       "    </tr>\n",
       "    <tr>\n",
       "      <th>...</th>\n",
       "      <td>...</td>\n",
       "    </tr>\n",
       "    <tr>\n",
       "      <th>1960-08-01</th>\n",
       "      <td>606.0</td>\n",
       "    </tr>\n",
       "    <tr>\n",
       "      <th>1960-09-01</th>\n",
       "      <td>508.0</td>\n",
       "    </tr>\n",
       "    <tr>\n",
       "      <th>1960-10-01</th>\n",
       "      <td>461.0</td>\n",
       "    </tr>\n",
       "    <tr>\n",
       "      <th>1960-11-01</th>\n",
       "      <td>390.0</td>\n",
       "    </tr>\n",
       "    <tr>\n",
       "      <th>1960-12-01</th>\n",
       "      <td>432.0</td>\n",
       "    </tr>\n",
       "  </tbody>\n",
       "</table>\n",
       "<p>144 rows × 1 columns</p>\n",
       "</div>"
      ],
      "text/plain": [
       "            Passengers\n",
       "Month                 \n",
       "1949-01-01       112.0\n",
       "1949-02-01       118.0\n",
       "1949-03-01       132.0\n",
       "1949-04-01       129.0\n",
       "1949-05-01       121.0\n",
       "...                ...\n",
       "1960-08-01       606.0\n",
       "1960-09-01       508.0\n",
       "1960-10-01       461.0\n",
       "1960-11-01       390.0\n",
       "1960-12-01       432.0\n",
       "\n",
       "[144 rows x 1 columns]"
      ]
     },
     "execution_count": 26,
     "metadata": {},
     "output_type": "execute_result"
    }
   ],
   "source": [
    "dataset\n"
   ]
  },
  {
   "cell_type": "code",
   "execution_count": 27,
   "id": "435f4300-9454-446c-8555-b88cc8257816",
   "metadata": {
    "tags": []
   },
   "outputs": [],
   "source": [
    "# normalize the dataset\n",
    "scaler = MinMaxScaler(feature_range=(0, 1))\n",
    "dataset = scaler.fit_transform(dataset)"
   ]
  },
  {
   "cell_type": "code",
   "execution_count": 28,
   "id": "98124b7a-0bfe-497f-852d-1aa7647e2585",
   "metadata": {
    "tags": []
   },
   "outputs": [
    {
     "name": "stdout",
     "output_type": "stream",
     "text": [
      "96 48\n"
     ]
    }
   ],
   "source": [
    "# split into train and test sets\n",
    "train_size = int(len(dataset) * 0.67)\n",
    "test_size = len(dataset) - train_size\n",
    "train, test = dataset[0:train_size,:], dataset[train_size:len(dataset),:]\n",
    "print(len(train), len(test))"
   ]
  },
  {
   "cell_type": "code",
   "execution_count": 29,
   "id": "1c3f2cf5-189b-4752-8193-693712c32b92",
   "metadata": {
    "tags": []
   },
   "outputs": [],
   "source": [
    "# convert an array of values into a dataset matrix\n",
    "def create_dataset(dataset, look_back=1):\n",
    "\tdataX, dataY = [], []\n",
    "\tfor i in range(len(dataset)-look_back-1):\n",
    "\t\ta = dataset[i:(i+look_back), 0]\n",
    "\t\tdataX.append(a)\n",
    "\t\tdataY.append(dataset[i + look_back, 0])\n",
    "\treturn np.array(dataX), np.array(dataY)"
   ]
  },
  {
   "cell_type": "code",
   "execution_count": 30,
   "id": "b09dcd91-81aa-4ab5-ad9c-7d0cb0f2fb56",
   "metadata": {
    "tags": []
   },
   "outputs": [],
   "source": [
    "# reshape into X=t and Y=t+1\n",
    "look_back = 1\n",
    "trainX, trainY = create_dataset(train, look_back)\n",
    "testX, testY = create_dataset(test, look_back)"
   ]
  },
  {
   "cell_type": "code",
   "execution_count": 31,
   "id": "97313c1f-53b4-4daf-b030-0ae183a6faba",
   "metadata": {
    "tags": []
   },
   "outputs": [],
   "source": [
    "# reshape input to be [samples, time steps, features]\n",
    "trainX = np.reshape(trainX, (trainX.shape[0], 1, trainX.shape[1]))\n",
    "testX = np.reshape(testX, (testX.shape[0], 1, testX.shape[1]))"
   ]
  },
  {
   "cell_type": "code",
   "execution_count": 32,
   "id": "49dc790d-483e-44e5-8637-e406d89b57a0",
   "metadata": {
    "tags": []
   },
   "outputs": [
    {
     "name": "stdout",
     "output_type": "stream",
     "text": [
      "Epoch 1/100\n",
      "94/94 - 2s - loss: 0.0497 - 2s/epoch - 19ms/step\n",
      "Epoch 2/100\n",
      "94/94 - 0s - loss: 0.0252 - 158ms/epoch - 2ms/step\n",
      "Epoch 3/100\n",
      "94/94 - 0s - loss: 0.0181 - 163ms/epoch - 2ms/step\n",
      "Epoch 4/100\n",
      "94/94 - 0s - loss: 0.0164 - 161ms/epoch - 2ms/step\n",
      "Epoch 5/100\n",
      "94/94 - 0s - loss: 0.0155 - 150ms/epoch - 2ms/step\n",
      "Epoch 6/100\n",
      "94/94 - 0s - loss: 0.0143 - 145ms/epoch - 2ms/step\n",
      "Epoch 7/100\n",
      "94/94 - 0s - loss: 0.0134 - 150ms/epoch - 2ms/step\n",
      "Epoch 8/100\n",
      "94/94 - 0s - loss: 0.0123 - 152ms/epoch - 2ms/step\n",
      "Epoch 9/100\n",
      "94/94 - 0s - loss: 0.0115 - 158ms/epoch - 2ms/step\n",
      "Epoch 10/100\n",
      "94/94 - 0s - loss: 0.0103 - 155ms/epoch - 2ms/step\n",
      "Epoch 11/100\n",
      "94/94 - 0s - loss: 0.0093 - 123ms/epoch - 1ms/step\n",
      "Epoch 12/100\n",
      "94/94 - 0s - loss: 0.0082 - 168ms/epoch - 2ms/step\n",
      "Epoch 13/100\n",
      "94/94 - 0s - loss: 0.0073 - 192ms/epoch - 2ms/step\n",
      "Epoch 14/100\n",
      "94/94 - 0s - loss: 0.0064 - 148ms/epoch - 2ms/step\n",
      "Epoch 15/100\n",
      "94/94 - 0s - loss: 0.0055 - 164ms/epoch - 2ms/step\n",
      "Epoch 16/100\n",
      "94/94 - 0s - loss: 0.0048 - 167ms/epoch - 2ms/step\n",
      "Epoch 17/100\n",
      "94/94 - 0s - loss: 0.0041 - 145ms/epoch - 2ms/step\n",
      "Epoch 18/100\n",
      "94/94 - 0s - loss: 0.0035 - 154ms/epoch - 2ms/step\n",
      "Epoch 19/100\n",
      "94/94 - 0s - loss: 0.0031 - 154ms/epoch - 2ms/step\n",
      "Epoch 20/100\n",
      "94/94 - 0s - loss: 0.0028 - 157ms/epoch - 2ms/step\n",
      "Epoch 21/100\n",
      "94/94 - 0s - loss: 0.0025 - 149ms/epoch - 2ms/step\n",
      "Epoch 22/100\n",
      "94/94 - 0s - loss: 0.0023 - 153ms/epoch - 2ms/step\n",
      "Epoch 23/100\n",
      "94/94 - 0s - loss: 0.0022 - 154ms/epoch - 2ms/step\n",
      "Epoch 24/100\n",
      "94/94 - 0s - loss: 0.0021 - 149ms/epoch - 2ms/step\n",
      "Epoch 25/100\n",
      "94/94 - 0s - loss: 0.0021 - 182ms/epoch - 2ms/step\n",
      "Epoch 26/100\n",
      "94/94 - 0s - loss: 0.0021 - 170ms/epoch - 2ms/step\n",
      "Epoch 27/100\n",
      "94/94 - 0s - loss: 0.0021 - 102ms/epoch - 1ms/step\n",
      "Epoch 28/100\n",
      "94/94 - 0s - loss: 0.0020 - 121ms/epoch - 1ms/step\n",
      "Epoch 29/100\n",
      "94/94 - 0s - loss: 0.0021 - 154ms/epoch - 2ms/step\n",
      "Epoch 30/100\n",
      "94/94 - 0s - loss: 0.0020 - 118ms/epoch - 1ms/step\n",
      "Epoch 31/100\n",
      "94/94 - 0s - loss: 0.0020 - 133ms/epoch - 1ms/step\n",
      "Epoch 32/100\n",
      "94/94 - 0s - loss: 0.0021 - 137ms/epoch - 1ms/step\n",
      "Epoch 33/100\n",
      "94/94 - 0s - loss: 0.0021 - 141ms/epoch - 1ms/step\n",
      "Epoch 34/100\n",
      "94/94 - 0s - loss: 0.0020 - 126ms/epoch - 1ms/step\n",
      "Epoch 35/100\n",
      "94/94 - 0s - loss: 0.0021 - 205ms/epoch - 2ms/step\n",
      "Epoch 36/100\n",
      "94/94 - 0s - loss: 0.0021 - 176ms/epoch - 2ms/step\n",
      "Epoch 37/100\n",
      "94/94 - 0s - loss: 0.0021 - 143ms/epoch - 2ms/step\n",
      "Epoch 38/100\n",
      "94/94 - 0s - loss: 0.0020 - 115ms/epoch - 1ms/step\n",
      "Epoch 39/100\n",
      "94/94 - 0s - loss: 0.0020 - 114ms/epoch - 1ms/step\n",
      "Epoch 40/100\n",
      "94/94 - 0s - loss: 0.0020 - 188ms/epoch - 2ms/step\n",
      "Epoch 41/100\n",
      "94/94 - 0s - loss: 0.0020 - 118ms/epoch - 1ms/step\n",
      "Epoch 42/100\n",
      "94/94 - 0s - loss: 0.0020 - 99ms/epoch - 1ms/step\n",
      "Epoch 43/100\n",
      "94/94 - 0s - loss: 0.0020 - 164ms/epoch - 2ms/step\n",
      "Epoch 44/100\n",
      "94/94 - 0s - loss: 0.0020 - 210ms/epoch - 2ms/step\n",
      "Epoch 45/100\n",
      "94/94 - 0s - loss: 0.0021 - 205ms/epoch - 2ms/step\n",
      "Epoch 46/100\n",
      "94/94 - 0s - loss: 0.0020 - 151ms/epoch - 2ms/step\n",
      "Epoch 47/100\n",
      "94/94 - 0s - loss: 0.0020 - 101ms/epoch - 1ms/step\n",
      "Epoch 48/100\n",
      "94/94 - 0s - loss: 0.0021 - 129ms/epoch - 1ms/step\n",
      "Epoch 49/100\n",
      "94/94 - 0s - loss: 0.0020 - 171ms/epoch - 2ms/step\n",
      "Epoch 50/100\n",
      "94/94 - 0s - loss: 0.0020 - 123ms/epoch - 1ms/step\n",
      "Epoch 51/100\n",
      "94/94 - 0s - loss: 0.0020 - 130ms/epoch - 1ms/step\n",
      "Epoch 52/100\n",
      "94/94 - 0s - loss: 0.0020 - 153ms/epoch - 2ms/step\n",
      "Epoch 53/100\n",
      "94/94 - 0s - loss: 0.0020 - 102ms/epoch - 1ms/step\n",
      "Epoch 54/100\n",
      "94/94 - 0s - loss: 0.0020 - 109ms/epoch - 1ms/step\n",
      "Epoch 55/100\n",
      "94/94 - 0s - loss: 0.0020 - 153ms/epoch - 2ms/step\n",
      "Epoch 56/100\n",
      "94/94 - 0s - loss: 0.0020 - 144ms/epoch - 2ms/step\n",
      "Epoch 57/100\n",
      "94/94 - 0s - loss: 0.0020 - 112ms/epoch - 1ms/step\n",
      "Epoch 58/100\n",
      "94/94 - 0s - loss: 0.0020 - 105ms/epoch - 1ms/step\n",
      "Epoch 59/100\n",
      "94/94 - 0s - loss: 0.0020 - 124ms/epoch - 1ms/step\n",
      "Epoch 60/100\n",
      "94/94 - 0s - loss: 0.0020 - 163ms/epoch - 2ms/step\n",
      "Epoch 61/100\n",
      "94/94 - 0s - loss: 0.0020 - 130ms/epoch - 1ms/step\n",
      "Epoch 62/100\n",
      "94/94 - 0s - loss: 0.0021 - 154ms/epoch - 2ms/step\n",
      "Epoch 63/100\n",
      "94/94 - 0s - loss: 0.0020 - 162ms/epoch - 2ms/step\n",
      "Epoch 64/100\n",
      "94/94 - 0s - loss: 0.0020 - 107ms/epoch - 1ms/step\n",
      "Epoch 65/100\n",
      "94/94 - 0s - loss: 0.0020 - 104ms/epoch - 1ms/step\n",
      "Epoch 66/100\n",
      "94/94 - 0s - loss: 0.0020 - 101ms/epoch - 1ms/step\n",
      "Epoch 67/100\n",
      "94/94 - 0s - loss: 0.0021 - 97ms/epoch - 1ms/step\n",
      "Epoch 68/100\n",
      "94/94 - 0s - loss: 0.0020 - 104ms/epoch - 1ms/step\n",
      "Epoch 69/100\n",
      "94/94 - 0s - loss: 0.0020 - 103ms/epoch - 1ms/step\n",
      "Epoch 70/100\n",
      "94/94 - 0s - loss: 0.0020 - 162ms/epoch - 2ms/step\n",
      "Epoch 71/100\n",
      "94/94 - 0s - loss: 0.0020 - 168ms/epoch - 2ms/step\n",
      "Epoch 72/100\n",
      "94/94 - 0s - loss: 0.0020 - 105ms/epoch - 1ms/step\n",
      "Epoch 73/100\n",
      "94/94 - 0s - loss: 0.0020 - 133ms/epoch - 1ms/step\n",
      "Epoch 74/100\n",
      "94/94 - 0s - loss: 0.0021 - 166ms/epoch - 2ms/step\n",
      "Epoch 75/100\n",
      "94/94 - 0s - loss: 0.0020 - 152ms/epoch - 2ms/step\n",
      "Epoch 76/100\n",
      "94/94 - 0s - loss: 0.0020 - 161ms/epoch - 2ms/step\n",
      "Epoch 77/100\n",
      "94/94 - 0s - loss: 0.0020 - 152ms/epoch - 2ms/step\n",
      "Epoch 78/100\n",
      "94/94 - 0s - loss: 0.0020 - 162ms/epoch - 2ms/step\n",
      "Epoch 79/100\n",
      "94/94 - 0s - loss: 0.0020 - 132ms/epoch - 1ms/step\n",
      "Epoch 80/100\n",
      "94/94 - 0s - loss: 0.0020 - 124ms/epoch - 1ms/step\n",
      "Epoch 81/100\n",
      "94/94 - 0s - loss: 0.0020 - 119ms/epoch - 1ms/step\n",
      "Epoch 82/100\n",
      "94/94 - 0s - loss: 0.0021 - 124ms/epoch - 1ms/step\n",
      "Epoch 83/100\n",
      "94/94 - 0s - loss: 0.0020 - 146ms/epoch - 2ms/step\n",
      "Epoch 84/100\n",
      "94/94 - 0s - loss: 0.0020 - 133ms/epoch - 1ms/step\n",
      "Epoch 85/100\n",
      "94/94 - 0s - loss: 0.0020 - 129ms/epoch - 1ms/step\n",
      "Epoch 86/100\n",
      "94/94 - 0s - loss: 0.0020 - 130ms/epoch - 1ms/step\n",
      "Epoch 87/100\n",
      "94/94 - 0s - loss: 0.0021 - 137ms/epoch - 1ms/step\n",
      "Epoch 88/100\n",
      "94/94 - 0s - loss: 0.0020 - 135ms/epoch - 1ms/step\n",
      "Epoch 89/100\n",
      "94/94 - 0s - loss: 0.0020 - 128ms/epoch - 1ms/step\n",
      "Epoch 90/100\n",
      "94/94 - 0s - loss: 0.0020 - 170ms/epoch - 2ms/step\n",
      "Epoch 91/100\n",
      "94/94 - 0s - loss: 0.0020 - 116ms/epoch - 1ms/step\n",
      "Epoch 92/100\n",
      "94/94 - 0s - loss: 0.0020 - 130ms/epoch - 1ms/step\n",
      "Epoch 93/100\n",
      "94/94 - 0s - loss: 0.0020 - 165ms/epoch - 2ms/step\n",
      "Epoch 94/100\n",
      "94/94 - 0s - loss: 0.0020 - 174ms/epoch - 2ms/step\n",
      "Epoch 95/100\n",
      "94/94 - 0s - loss: 0.0021 - 130ms/epoch - 1ms/step\n",
      "Epoch 96/100\n",
      "94/94 - 0s - loss: 0.0020 - 107ms/epoch - 1ms/step\n",
      "Epoch 97/100\n",
      "94/94 - 0s - loss: 0.0020 - 150ms/epoch - 2ms/step\n",
      "Epoch 98/100\n",
      "94/94 - 0s - loss: 0.0020 - 162ms/epoch - 2ms/step\n",
      "Epoch 99/100\n",
      "94/94 - 0s - loss: 0.0020 - 151ms/epoch - 2ms/step\n",
      "Epoch 100/100\n",
      "94/94 - 0s - loss: 0.0020 - 104ms/epoch - 1ms/step\n"
     ]
    },
    {
     "data": {
      "text/plain": [
       "<keras.src.callbacks.History at 0x167424678e0>"
      ]
     },
     "execution_count": 32,
     "metadata": {},
     "output_type": "execute_result"
    }
   ],
   "source": [
    "# create and fit the LSTM network\n",
    "model = Sequential()\n",
    "model.add(LSTM(4, input_shape=(1, look_back)))\n",
    "model.add(Dense(1))\n",
    "model.compile(loss='mean_squared_error', optimizer='adam')\n",
    "model.fit(trainX, trainY, epochs=100, batch_size=1, verbose=2)"
   ]
  },
  {
   "cell_type": "code",
   "execution_count": 34,
   "id": "c8996b43-60ff-41c9-95de-3f2156be5813",
   "metadata": {
    "tags": []
   },
   "outputs": [
    {
     "name": "stdout",
     "output_type": "stream",
     "text": [
      "3/3 [==============================] - 0s 3ms/step\n",
      "2/2 [==============================] - 0s 3ms/step\n",
      "Train Score: 22.72 RMSE\n",
      "Test Score: 48.53 RMSE\n"
     ]
    }
   ],
   "source": [
    "# make predictions\n",
    "trainPredict = model.predict(trainX)\n",
    "testPredict = model.predict(testX)\n",
    "# invert predictions\n",
    "trainPredict = scaler.inverse_transform(trainPredict)\n",
    "trainY = scaler.inverse_transform([trainY])\n",
    "testPredict = scaler.inverse_transform(testPredict)\n",
    "testY = scaler.inverse_transform([testY])\n",
    "# calculate root mean squared error\n",
    "trainScore = np.sqrt(mean_squared_error(trainY[0], trainPredict[:,0]))\n",
    "print('Train Score: %.2f RMSE' % (trainScore))\n",
    "testScore = np.sqrt(mean_squared_error(testY[0], testPredict[:,0]))\n",
    "print('Test Score: %.2f RMSE' % (testScore))"
   ]
  },
  {
   "cell_type": "code",
   "execution_count": 35,
   "id": "3da7bf7e-0e8e-47f0-87c0-6caf45459d3d",
   "metadata": {
    "tags": []
   },
   "outputs": [
    {
     "data": {
      "image/png": "[encoded data removed]",
      "text/plain": [
       "<Figure size 640x480 with 1 Axes>"
      ]
     },
     "metadata": {},
     "output_type": "display_data"
    }
   ],
   "source": [
    "# shift train predictions for plotting\n",
    "trainPredictPlot = np.empty_like(dataset)\n",
    "trainPredictPlot[:, :] = np.nan\n",
    "trainPredictPlot[look_back:len(trainPredict)+look_back, :] = trainPredict\n",
    "# shift test predictions for plotting\n",
    "testPredictPlot = np.empty_like(dataset)\n",
    "testPredictPlot[:, :] = np.nan\n",
    "testPredictPlot[len(trainPredict)+(look_back*2)+1:len(dataset)-1, :] = testPredict\n",
    "# plot baseline and predictions\n",
    "plt.plot(scaler.inverse_transform(dataset))\n",
    "plt.plot(trainPredictPlot)\n",
    "plt.plot(testPredictPlot)\n",
    "plt.show()"
   ]
  },
  {
   "cell_type": "code",
   "execution_count": 36,
   "id": "0265e132-5b52-4e62-be9c-e34d4c6580a1",
   "metadata": {
    "tags": []
   },
   "outputs": [
    {
     "data": {
      "text/plain": [
       "array([[       nan],\n",
       "       [121.696045],\n",
       "       [126.88169 ],\n",
       "       [139.186   ],\n",
       "       [136.52628 ],\n",
       "       [129.49477 ],\n",
       "       [141.85777 ],\n",
       "       [153.5669  ],\n",
       "       [153.5669  ],\n",
       "       [142.75098 ],\n",
       "       [127.75124 ],\n",
       "       [114.8691  ],\n",
       "       [126.88169 ],\n",
       "       [124.28203 ],\n",
       "       [133.87888 ],\n",
       "       [147.23616 ],\n",
       "       [141.85777 ],\n",
       "       [132.9992  ],\n",
       "       [154.476   ],\n",
       "       [173.81178 ],\n",
       "       [173.81178 ],\n",
       "       [162.70769 ],\n",
       "       [140.07527 ],\n",
       "       [123.41851 ],\n",
       "       [146.3366  ],\n",
       "       [150.84659 ],\n",
       "       [155.38625 ],\n",
       "       [181.2867  ],\n",
       "       [167.31755 ],\n",
       "       [175.67545 ],\n",
       "       [181.2867  ],\n",
       "       [201.13219 ],\n",
       "       [201.13219 ],\n",
       "       [186.92632 ],\n",
       "       [166.39359 ],\n",
       "       [151.75218 ],\n",
       "       [170.0952  ],\n",
       "       [174.7432  ],\n",
       "       [183.16354 ],\n",
       "       [195.43315 ],\n",
       "       [184.10313 ],\n",
       "       [185.98453 ],\n",
       "       [219.2935  ],\n",
       "       [230.82678 ],\n",
       "       [242.38583 ],\n",
       "       [210.6719  ],\n",
       "       [193.53821 ],\n",
       "       [175.67545 ],\n",
       "       [196.38155 ],\n",
       "       [198.28012 ],\n",
       "       [198.28012 ],\n",
       "       [236.60426 ],\n",
       "       [235.641   ],\n",
       "       [229.86444 ],\n",
       "       [243.34969 ],\n",
       "       [263.58502 ],\n",
       "       [271.28018 ],\n",
       "       [237.56764 ],\n",
       "       [212.58522 ],\n",
       "       [183.16354 ],\n",
       "       [203.03622 ],\n",
       "       [205.89612 ],\n",
       "       [190.70052 ],\n",
       "       [235.641   ],\n",
       "       [227.94032 ],\n",
       "       [234.67787 ],\n",
       "       [263.58502 ],\n",
       "       [299.97583 ],\n",
       "       [291.4008  ],\n",
       "       [258.77017 ],\n",
       "       [229.86444 ],\n",
       "       [204.94234 ],\n",
       "       [229.86444 ],\n",
       "       [242.38583 ],\n",
       "       [233.71486 ],\n",
       "       [266.4721  ],\n",
       "       [268.39594 ],\n",
       "       [269.35757 ],\n",
       "       [312.2972  ],\n",
       "       [357.8618  ],\n",
       "       [342.22897 ],\n",
       "       [309.4612  ],\n",
       "       [273.20187 ],\n",
       "       [237.56764 ],\n",
       "       [277.04227 ],\n",
       "       [282.79453 ],\n",
       "       [276.08255 ],\n",
       "       [314.18533 ],\n",
       "       [310.40707 ],\n",
       "       [315.12854 ],\n",
       "       [366.96133 ],\n",
       "       [401.72144 ],\n",
       "       [394.6885  ],\n",
       "       [349.6106  ],\n",
       "       [303.77567 ],\n",
       "       [       nan],\n",
       "       [       nan],\n",
       "       [       nan],\n",
       "       [       nan],\n",
       "       [       nan],\n",
       "       [       nan],\n",
       "       [       nan],\n",
       "       [       nan],\n",
       "       [       nan],\n",
       "       [       nan],\n",
       "       [       nan],\n",
       "       [       nan],\n",
       "       [       nan],\n",
       "       [       nan],\n",
       "       [       nan],\n",
       "       [       nan],\n",
       "       [       nan],\n",
       "       [       nan],\n",
       "       [       nan],\n",
       "       [       nan],\n",
       "       [       nan],\n",
       "       [       nan],\n",
       "       [       nan],\n",
       "       [       nan],\n",
       "       [       nan],\n",
       "       [       nan],\n",
       "       [       nan],\n",
       "       [       nan],\n",
       "       [       nan],\n",
       "       [       nan],\n",
       "       [       nan],\n",
       "       [       nan],\n",
       "       [       nan],\n",
       "       [       nan],\n",
       "       [       nan],\n",
       "       [       nan],\n",
       "       [       nan],\n",
       "       [       nan],\n",
       "       [       nan],\n",
       "       [       nan],\n",
       "       [       nan],\n",
       "       [       nan],\n",
       "       [       nan],\n",
       "       [       nan],\n",
       "       [       nan],\n",
       "       [       nan],\n",
       "       [       nan],\n",
       "       [       nan],\n",
       "       [       nan]], dtype=float32)"
      ]
     },
     "execution_count": 36,
     "metadata": {},
     "output_type": "execute_result"
    }
   ],
   "source": [
    "trainPredictPlot"
   ]
  },
  {
   "cell_type": "code",
   "execution_count": null,
   "id": "bc0c3259-8543-4457-852d-0752559a01a8",
   "metadata": {},
   "outputs": [],
   "source": []
  }
 ],
 "metadata": {
  "kernelspec": {
   "display_name": "Python 3 (ipykernel)",
   "language": "python",
   "name": "python3"
  },
  "language_info": {
   "codemirror_mode": {
    "name": "ipython",
    "version": 3
   },
   "file_extension": ".py",
   "mimetype": "text/x-python",
   "name": "python",
   "nbconvert_exporter": "python",
   "pygments_lexer": "ipython3",
   "version": "3.9.18"
  }
 },
 "nbformat": 4,
 "nbformat_minor": 5
}
